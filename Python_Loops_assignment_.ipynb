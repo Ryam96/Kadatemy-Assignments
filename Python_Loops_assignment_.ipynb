{
  "nbformat": 4,
  "nbformat_minor": 0,
  "metadata": {
    "colab": {
      "name": "Python_Loops_assignment .ipynb",
      "provenance": [],
      "include_colab_link": true
    },
    "kernelspec": {
      "display_name": "Python 3",
      "language": "python",
      "name": "python3"
    },
    "language_info": {
      "codemirror_mode": {
        "name": "ipython",
        "version": 3
      },
      "file_extension": ".py",
      "mimetype": "text/x-python",
      "name": "python",
      "nbconvert_exporter": "python",
      "pygments_lexer": "ipython3",
      "version": "3.8.8"
    }
  },
  "cells": [
    {
      "cell_type": "markdown",
      "metadata": {
        "id": "view-in-github",
        "colab_type": "text"
      },
      "source": [
        "<a href=\"https://colab.research.google.com/github/Ryam96/Kadatemy-Assignments/blob/main/Python_Loops_assignment_.ipynb\" target=\"_parent\"><img src=\"https://colab.research.google.com/assets/colab-badge.svg\" alt=\"Open In Colab\"/></a>"
      ]
    },
    {
      "cell_type": "markdown",
      "metadata": {
        "id": "IoQa2eN8bWTA"
      },
      "source": [
        "# 1.\n",
        "\n",
        "A particular zoo determines the price of admission based on the age of the guest.\n",
        "\n",
        "Guests 2 years of age and less are admitted without charge. Children between 3 and 12 years of age cost $14.00.\n",
        "\n",
        "Seniors aged 65 years and over cost $18.00.\n",
        "\n",
        "Admission for all other guests is $23.00.\n",
        "\n",
        "Create a program that begins by reading the ages of all of the guests in a group from the user, with one age entered on each line. The user will enter a blank line to indicate that there are no more guests in the group. Then your program should display the admission cost for the group with an appropriate message.\n",
        "\n",
        "The cost should be displayed using two decimal places."
      ]
    },
    {
      "cell_type": "code",
      "metadata": {
        "id": "Z1cAOgFq0-Z6",
        "outputId": "dd029485-0bb2-428b-94c5-36f01cbe17cf"
      },
      "source": [
        "agelist=[]\n",
        "sum = 0\n",
        "count = 1\n",
        "adfee = float(0)\n",
        "\n",
        "while True:\n",
        "    try:\n",
        "        age = int(input(\"Enter age for group user {}       :\" .format(count)))\n",
        "    except ValueError:\n",
        "        print(\"Processing.....\")\n",
        "        break\n",
        "            \n",
        "    count += 1\n",
        "    agelist += [age]\n",
        "    \n",
        "\n",
        "    if (age > 0 and age <=2):\n",
        "        adfee += 0\n",
        "        \n",
        "    elif (age > 2 and age <= 12):\n",
        "        adfee += 14\n",
        "            \n",
        "    elif (age > 65):\n",
        "        adfee += 18\n",
        "            \n",
        "    else:\n",
        "        adfee += 23\n",
        "    \n",
        "print(\"Please confirm your age and see below your admission fee\", agelist)\n",
        "print(\"Admission fee for your group is $%.2f\" % adfee)\n",
        "\n"
      ],
      "execution_count": null,
      "outputs": [
        {
          "name": "stdout",
          "output_type": "stream",
          "text": [
            "Enter age for group user 1       :23\n",
            "Enter age for group user 2       :45\n",
            "Enter age for group user 3       :67\n",
            "Enter age for group user 4       :\n",
            "Processing.....\n",
            "Please confirm your age and see below your admission fee [23, 45, 67]\n",
            "Admission fee for your group is $64.00\n"
          ]
        }
      ]
    },
    {
      "cell_type": "markdown",
      "metadata": {
        "id": "93BM6vNHb6tx"
      },
      "source": [
        "###### 2.\n",
        "\n",
        "A particular retailer is having a 60 percent off sale on a variety of discontinued products. \n",
        "\n",
        "The retailer would like to help its customers determine the reduced price of the merchandise by having a printed discount table on the shelf that shows the original prices and the prices after the discount has been applied. \n",
        "\n",
        "Write a program that uses a loop to generate this table, showing the original price, the discount amount, and the new price for purchases of $4.95, $9.95, $14.95, $19.95 and $24.95. \n",
        "\n",
        "Ensure that the discount amounts and the new prices are rounded to 2 decimal places when they are displayed.\n"
      ]
    },
    {
      "cell_type": "code",
      "metadata": {
        "id": "ZxUkWZg90-Z_",
        "outputId": "1a51c185-bdd9-474a-bbe4-28577f6ea1e8"
      },
      "source": [
        "originalPrice = [4.95, 9.95, 14.95, 19.95, 24.95]    \n",
        "print(\"========================Welcome to RYAM LIVING===========================\")\n",
        "print(\"===============================PURCHASES=================================\")\n",
        "print(\"\")\n",
        "print(\"Original Prices\\t\\t\\tDiscount Amount\\t\\t\\tNew Price \")\n",
        "for i in originalPrice:\n",
        "    print (\"%.2f\" % (i), \"\\t\\t\\t\\t %.2f\" %((i/100) * 60), \"\\t\\t\\t\\t %.2f\" % (i - ((i/100) * 60)))\n",
        "\n"
      ],
      "execution_count": null,
      "outputs": [
        {
          "name": "stdout",
          "output_type": "stream",
          "text": [
            "========================Welcome to RYAM LIVING===========================\n",
            "===============================PURCHASES=================================\n",
            "\n",
            "Original Prices\t\t\tDiscount Amount\t\t\tNew Price \n",
            "4.95 \t\t\t\t 2.97 \t\t\t\t 1.98\n",
            "9.95 \t\t\t\t 5.97 \t\t\t\t 3.98\n",
            "14.95 \t\t\t\t 8.97 \t\t\t\t 5.98\n",
            "19.95 \t\t\t\t 11.97 \t\t\t\t 7.98\n",
            "24.95 \t\t\t\t 14.97 \t\t\t\t 9.98\n"
          ]
        }
      ]
    },
    {
      "cell_type": "markdown",
      "metadata": {
        "id": "twwmmHWsioYl"
      },
      "source": [
        "## 3.\n",
        "\n",
        "lst=[10, 99, 98, 85, 22, 34, 78, 98, 12, 35, 13, 100, 80, 95]\n",
        "\n",
        "Using while loop, and if statement; iterate through the list and if there is a 100, print it with its index number. i.e.: \n",
        "\n",
        "\"There is a 100 at index no: 4\"\n",
        "\n"
      ]
    },
    {
      "cell_type": "code",
      "metadata": {
        "id": "QDT9Z85M0-aC",
        "outputId": "6f3de735-e8f9-4e81-ed34-73378f4b9a0b"
      },
      "source": [
        "lst=[ 10, 99, 98, 85, 22, 34, 78, 98, 12, 35, 13, 100, 80, 95 ]\n",
        "count = 0\n",
        "for item in lst:\n",
        "    count += 1\n",
        "    if(item == 100):\n",
        "        print(\"There is 100 at index no: \", count-1)"
      ],
      "execution_count": null,
      "outputs": [
        {
          "name": "stdout",
          "output_type": "stream",
          "text": [
            "There is 100 at index no:  11\n"
          ]
        }
      ]
    },
    {
      "cell_type": "markdown",
      "metadata": {
        "id": "PRRHzHgZjBZE"
      },
      "source": [
        "## 4.\n",
        "\n",
        "Write a python program to read three numbers (a,b,c) and check how many numbers between ‘a’ and ‘b’ are divisible by ‘c’"
      ]
    },
    {
      "cell_type": "code",
      "metadata": {
        "id": "bEmV5uaY0-aI",
        "outputId": "ee1bdb9b-4d99-41c0-ec52-0a9c24a43ad3"
      },
      "source": [
        "a = int(input(\"Enter a: \"))\n",
        "b = int(input(\"Enter b: \"))\n",
        "c = int(input(\"Enter c: \"))\n",
        "\n",
        "itemss = []\n",
        "for i in range(a,b):\n",
        "        if (i % c == 0):\n",
        "            print(i)\n",
        "\n",
        "        \n"
      ],
      "execution_count": null,
      "outputs": [
        {
          "name": "stdout",
          "output_type": "stream",
          "text": [
            "Enter a: 11\n",
            "Enter b: 21\n",
            "Enter c: 5\n",
            "15\n",
            "20\n"
          ]
        }
      ]
    },
    {
      "cell_type": "markdown",
      "metadata": {
        "id": "aj0eqpwgjmLc"
      },
      "source": [
        "## 5.\n",
        "\n",
        "Create a for loop that prompts the user for a name 3 times, then appends each one to names."
      ]
    },
    {
      "cell_type": "code",
      "metadata": {
        "id": "mvPeL7EN0-aM",
        "outputId": "0a62f90c-667e-42aa-c2b8-c9398f4a0acd"
      },
      "source": [
        "i = 1\n",
        "names = []\n",
        "while i <= 3:\n",
        "    name = input(\"name: \")\n",
        "    names += [name]\n",
        "    i += 1\n",
        "print(names)"
      ],
      "execution_count": null,
      "outputs": [
        {
          "name": "stdout",
          "output_type": "stream",
          "text": [
            "name: idris\n",
            "name: maryam\n",
            "name: akande\n",
            "['idris', 'maryam', 'akande']\n"
          ]
        }
      ]
    },
    {
      "cell_type": "markdown",
      "metadata": {
        "id": "owfZVZ6Sksx7"
      },
      "source": [
        "## 6.\n",
        "\n",
        "Use a loop to print out every character in the string \"Python\", except the \"o\""
      ]
    },
    {
      "cell_type": "code",
      "metadata": {
        "id": "2sJCaFGB0-aO",
        "outputId": "491893e2-b33f-4636-9f31-20dd2f91155a"
      },
      "source": [
        "string = \"Python\"\n",
        "for str in string:\n",
        "    if (str != \"o\"):\n",
        "        print(str)       "
      ],
      "execution_count": null,
      "outputs": [
        {
          "name": "stdout",
          "output_type": "stream",
          "text": [
            "P\n",
            "y\n",
            "t\n",
            "h\n",
            "n\n"
          ]
        }
      ]
    },
    {
      "cell_type": "markdown",
      "metadata": {
        "id": "wGqS7DaYk_1F"
      },
      "source": [
        "## 7. \n",
        "\n",
        "Write a program that computes the average of a collection\n",
        "of values entered by the user. \n",
        "\n",
        "The user will enter 0 as a sentinel value to indicate\n",
        "that no further values will be provided. \n",
        "\n",
        "Your program should display an appropriate\n",
        "error message if the first value entered by the user is 0."
      ]
    },
    {
      "cell_type": "code",
      "metadata": {
        "id": "6CYtLiqt0-aQ",
        "outputId": "742cb9b0-03ca-49b4-efe3-1e48296e1eb3"
      },
      "source": [
        "list=[]\n",
        "count = 0\n",
        "sum = 0\n",
        "\n",
        "while True:\n",
        "    no = int(input(\"Enter a number: \"))\n",
        "    if (no == 0):\n",
        "        break\n",
        "    else:\n",
        "        list += [no]\n",
        "\n",
        "for item in list:\n",
        "    sum += item\n",
        "    count += 1\n",
        "    \n",
        "try:    \n",
        "    average = float(sum / len(list))\n",
        "    print(average)\n",
        "    \n",
        "except ZeroDivisionError:\n",
        "    sum = 0\n",
        "    print(\"Please try again with a valid number at first input\")\n",
        "    "
      ],
      "execution_count": null,
      "outputs": [
        {
          "name": "stdout",
          "output_type": "stream",
          "text": [
            "Enter a number: 56\n",
            "Enter a number: 34\n",
            "Enter a number: 12\n",
            "Enter a number: 899\n",
            "Enter a number: 0\n",
            "250.25\n"
          ]
        }
      ]
    },
    {
      "cell_type": "code",
      "metadata": {
        "id": "VoR6ZeT90-aR"
      },
      "source": [
        ""
      ],
      "execution_count": null,
      "outputs": []
    }
  ]
}