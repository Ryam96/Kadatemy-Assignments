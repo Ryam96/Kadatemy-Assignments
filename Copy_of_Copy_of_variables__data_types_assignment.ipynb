{
  "nbformat": 4,
  "nbformat_minor": 0,
  "metadata": {
    "kernelspec": {
      "display_name": "Python 3",
      "language": "python",
      "name": "python3"
    },
    "language_info": {
      "codemirror_mode": {
        "name": "ipython",
        "version": 3
      },
      "file_extension": ".py",
      "mimetype": "text/x-python",
      "name": "python",
      "nbconvert_exporter": "python",
      "pygments_lexer": "ipython3",
      "version": "3.8.5"
    },
    "colab": {
      "name": "Copy of Copy of variables__data_types_assignment.ipynb",
      "provenance": [],
      "collapsed_sections": [],
      "include_colab_link": true
    }
  },
  "cells": [
    {
      "cell_type": "markdown",
      "metadata": {
        "id": "view-in-github",
        "colab_type": "text"
      },
      "source": [
        "<a href=\"https://colab.research.google.com/github/Ryam96/Kadatemy-Assignments/blob/main/Copy_of_Copy_of_variables__data_types_assignment.ipynb\" target=\"_parent\"><img src=\"https://colab.research.google.com/assets/colab-badge.svg\" alt=\"Open In Colab\"/></a>"
      ]
    },
    {
      "cell_type": "markdown",
      "metadata": {
        "id": "SUrG56l_FT4A"
      },
      "source": [
        "ASSIGNMENT "
      ]
    },
    {
      "cell_type": "markdown",
      "metadata": {
        "id": "gcPqfB4w0su6"
      },
      "source": [
        "\n",
        "\n",
        "1. What is a variable? A variable is a name that refers to a value.\n",
        "\n",
        "2. Give 5 examples of variables with corresponding values.\n",
        "\n",
        "3. State the data type for each of the following variables:\n",
        "- b = False - Bool\n",
        "- number = \"1000\"- string\n",
        "- radius = 7.0 -float\n",
        "- diameter = 14 - integer\n",
        "- country = 'Nigeria' -string\n",
        "\n",
        "4. Fix this string\n",
        "quote = \"You're right, he won't agree to this deal.\"\n",
        "\n",
        "5. What happens when you call a string method like islower() on a float object? For example, 15.55.islower()\n",
        "\n",
        "6. Write two lines of code each assigning a value to a variable. Now write a print statement using .format() to print out a sentence containing the values of both of the variables.\n",
        "\n",
        "\n",
        "7. You’ve been provided below with example data for a user, the time of their visit and the site they accessed. You should use the variables provided and the techniques you’ve learned to print a log message like this one  \"Amina accessed the site http://kadatemy.com/courses/pythonfordatascience/class1 at 09:20.\" (with the username, url, and timestamp replaced with values from the appropriate variables). \n"
      ]
    },
    {
      "cell_type": "markdown",
      "metadata": {
        "id": "lov-7tXWrcRR"
      },
      "source": [
        "No 2\n"
      ]
    },
    {
      "cell_type": "code",
      "metadata": {
        "id": "FBs3DSeLqg-O"
      },
      "source": [
        "name = Maryam\n",
        "age = 2\n",
        "weight = 18.0\n",
        "location = \"Lagos\""
      ],
      "execution_count": null,
      "outputs": []
    },
    {
      "cell_type": "markdown",
      "metadata": {
        "id": "u7u-f_TxrSIT"
      },
      "source": [
        "number 5\n",
        "\n"
      ]
    },
    {
      "cell_type": "code",
      "metadata": {
        "colab": {
          "base_uri": "https://localhost:8080/",
          "height": 35
        },
        "id": "7_fglm2HqR-b",
        "outputId": "708d35f6-3fc6-4d34-daee-94dfd4f6aac7"
      },
      "source": [
        "\n",
        "num1 = '15.55'\n",
        "num1\n",
        "\n",
        "num1.lower()  #string method lower doesn't have an effect on numbers or float"
      ],
      "execution_count": null,
      "outputs": [
        {
          "output_type": "execute_result",
          "data": {
            "application/vnd.google.colaboratory.intrinsic+json": {
              "type": "string"
            },
            "text/plain": [
              "'15.55'"
            ]
          },
          "metadata": {},
          "execution_count": 30
        }
      ]
    },
    {
      "cell_type": "markdown",
      "metadata": {
        "id": "Oa0V_MxLsaZT"
      },
      "source": [
        "No 6"
      ]
    },
    {
      "cell_type": "code",
      "metadata": {
        "colab": {
          "base_uri": "https://localhost:8080/"
        },
        "id": "97AZr5i4qSFL",
        "outputId": "dd8f0a2f-20fa-4a13-d47a-4621f0e67013"
      },
      "source": [
        "sales1 = 725897\n",
        "sales2 = 987987\n",
        "total = sales1 + sales2\n",
        "\n",
        "print('we had a total of {} yesterday and of {} sales given us a total of {} for the weekend sales'.format(sales1,sales2, total))"
      ],
      "execution_count": null,
      "outputs": [
        {
          "output_type": "stream",
          "name": "stdout",
          "text": [
            "we had a total of 725897 yesterday and of 987987 sales given us a total of 1713884 for the weekend sales\n"
          ]
        }
      ]
    },
    {
      "cell_type": "markdown",
      "metadata": {
        "id": "sBwjA40CzvA3"
      },
      "source": [
        "**No 7**"
      ]
    },
    {
      "cell_type": "code",
      "metadata": {
        "colab": {
          "base_uri": "https://localhost:8080/",
          "height": 35
        },
        "id": "SB8vf5SY0svG",
        "outputId": "69a64505-2d4a-460a-f935-ff13cf0205aa"
      },
      "source": [
        "username = \"Faith \"\n",
        "word = \"accessed the site \"\n",
        "timestamp = \"07:50 \"\n",
        "url = \"http://kadatemy.com/courses/pythonfordatascience/class1\"\n",
        "\n",
        "message = username + word + url + timestamp\n",
        "message"
      ],
      "execution_count": null,
      "outputs": [
        {
          "output_type": "execute_result",
          "data": {
            "application/vnd.google.colaboratory.intrinsic+json": {
              "type": "string"
            },
            "text/plain": [
              "'Faith accessed the site http://kadatemy.com/courses/pythonfordatascience/class107:50 '"
            ]
          },
          "metadata": {},
          "execution_count": 2
        }
      ]
    },
    {
      "cell_type": "markdown",
      "metadata": {
        "id": "YcJp4a9B0svI"
      },
      "source": [
        "8. Consider this string\n",
        "str1 = \"Python exercises are fun. It is very satisfying to solve problems using this computer language.\"\n",
        "- a- Print the length of the string\n",
        "- b- Show the first and last characters of the string.\n",
        "- c- print the characters \"exercises\" from the string using the right index, do the same for \"language\".\n",
        "- d- By using first, second and last characters of the string, create a new string\n",
        "- e- Which character occurs more often in the string? \"e\" or \"s\" ? Print both counts inside the print function.\n",
        "\n",
        "9. Consider this string \n",
        "str2 = \"  I'm enjoying this a lot! I could do with more exercises.   \"\n",
        "- a- Return the string without any whitespace at the beginning or the end.\n",
        "- b- what is the result of using the method isnumeric() on this string\n",
        "- c- usind a method, return the last position of where \"i\" is found\n",
        "\n",
        "10. Return the output of concatenating the strings provided in in question 8 and 9.\n",
        "\n",
        "11. Use an appropriate method that returns True if all characters in this string are digits.\n",
        "x = \"3490003\""
      ]
    },
    {
      "cell_type": "markdown",
      "metadata": {
        "id": "G-bHQNUd1YyP"
      },
      "source": [
        "**No 8**"
      ]
    },
    {
      "cell_type": "code",
      "metadata": {
        "colab": {
          "base_uri": "https://localhost:8080/",
          "height": 69
        },
        "id": "06NMPd3pceQG",
        "outputId": "0ac885f8-bf72-4e80-fe6f-b0318f4b7adb"
      },
      "source": [
        "str1 = \"Python exercises are fun. It is very satisfying to solve problems using this computer language.\"\n",
        "str1\n",
        "print(len(str1))  #9a\n",
        "\n",
        "print(str1[0]) #9b\n",
        "\n",
        "str1[-1]\n",
        "\n"
      ],
      "execution_count": null,
      "outputs": [
        {
          "output_type": "stream",
          "name": "stdout",
          "text": [
            "95\n",
            "P\n"
          ]
        },
        {
          "output_type": "execute_result",
          "data": {
            "application/vnd.google.colaboratory.intrinsic+json": {
              "type": "string"
            },
            "text/plain": [
              "'.'"
            ]
          },
          "metadata": {},
          "execution_count": 64
        }
      ]
    },
    {
      "cell_type": "markdown",
      "metadata": {
        "id": "38MG3HOgDz6p"
      },
      "source": [
        "**No 8c**"
      ]
    },
    {
      "cell_type": "code",
      "metadata": {
        "colab": {
          "base_uri": "https://localhost:8080/",
          "height": 35
        },
        "id": "4Dtrtome-3mi",
        "outputId": "259b014b-c382-45a0-deb7-e2bceac3ef23"
      },
      "source": [
        "str1 = \"Python exercises are fun. It is very satisfying to solve problems using this computer language.\"\n",
        "list2 = str1.split()\n",
        "list2[1]\n"
      ],
      "execution_count": null,
      "outputs": [
        {
          "output_type": "execute_result",
          "data": {
            "application/vnd.google.colaboratory.intrinsic+json": {
              "type": "string"
            },
            "text/plain": [
              "'exercises'"
            ]
          },
          "metadata": {},
          "execution_count": 97
        }
      ]
    },
    {
      "cell_type": "markdown",
      "metadata": {
        "id": "hb3ffvBCDrCI"
      },
      "source": [
        "**No 8d**"
      ]
    },
    {
      "cell_type": "code",
      "metadata": {
        "colab": {
          "base_uri": "https://localhost:8080/"
        },
        "id": "FCWkoI5tAX2F",
        "outputId": "f25f5ae4-de94-487c-9d63-69a7d24edcd5"
      },
      "source": [
        "str1 = \"Python exercises are fun. It is very satisfying to solve problems using this computer language.\"\n",
        "list2 = str1.split()\n",
        "\n",
        "print(list2[0])\n",
        "\n",
        "print(list2[1])\n",
        "\n",
        "print(list[14])\n",
        "\n",
        "\n",
        "print(list2[0] + list2[1]  + list[14] )\n"
      ],
      "execution_count": null,
      "outputs": [
        {
          "output_type": "stream",
          "name": "stdout",
          "text": [
            "Python\n",
            "exercises\n",
            "language.\n",
            "Pythonexerciseslanguage.\n"
          ]
        }
      ]
    },
    {
      "cell_type": "markdown",
      "metadata": {
        "id": "yt5c60xC2L-w"
      },
      "source": [
        "**No 8e**"
      ]
    },
    {
      "cell_type": "code",
      "metadata": {
        "colab": {
          "base_uri": "https://localhost:8080/"
        },
        "id": "CicInKJlir0g",
        "outputId": "960b749f-15d2-4789-e8ce-ff52e37df445"
      },
      "source": [
        "print(str1.count('e'))"
      ],
      "execution_count": null,
      "outputs": [
        {
          "output_type": "stream",
          "name": "stdout",
          "text": [
            "9\n"
          ]
        }
      ]
    },
    {
      "cell_type": "code",
      "metadata": {
        "colab": {
          "base_uri": "https://localhost:8080/"
        },
        "id": "5nu9Xs84i8_p",
        "outputId": "85d40021-fddf-4468-9979-5891ba753589"
      },
      "source": [
        "print(str1.count('s'))"
      ],
      "execution_count": null,
      "outputs": [
        {
          "output_type": "stream",
          "name": "stdout",
          "text": [
            "9\n"
          ]
        }
      ]
    },
    {
      "cell_type": "markdown",
      "metadata": {
        "id": "MgVO4v1R6aik"
      },
      "source": [
        "**No 9**"
      ]
    },
    {
      "cell_type": "code",
      "metadata": {
        "id": "yyGuQTv-cfLf",
        "colab": {
          "base_uri": "https://localhost:8080/"
        },
        "outputId": "e32f6fdb-5fa9-4e55-8fc2-39238ad5ff40"
      },
      "source": [
        "str2 = \" I'm enjoying this a lot! I could do with more exercises. \"\n",
        "print(str2.strip())\n",
        "str2.isnumeric()"
      ],
      "execution_count": null,
      "outputs": [
        {
          "output_type": "stream",
          "name": "stdout",
          "text": [
            "I'm enjoying this a lot! I could do with more exercises.\n"
          ]
        },
        {
          "output_type": "execute_result",
          "data": {
            "text/plain": [
              "False"
            ]
          },
          "metadata": {},
          "execution_count": 128
        }
      ]
    },
    {
      "cell_type": "markdown",
      "metadata": {
        "id": "XXluDHyTE0Vq"
      },
      "source": [
        "**No 11**\n"
      ]
    },
    {
      "cell_type": "code",
      "metadata": {
        "colab": {
          "base_uri": "https://localhost:8080/",
          "height": 35
        },
        "id": "igC87XHIFG1Q",
        "outputId": "1164e525-8950-4ce3-c3ca-8d0521584853"
      },
      "source": [
        "\n",
        "x = \"3490003\"\n",
        "x\n"
      ],
      "execution_count": null,
      "outputs": [
        {
          "output_type": "execute_result",
          "data": {
            "application/vnd.google.colaboratory.intrinsic+json": {
              "type": "string"
            },
            "text/plain": [
              "'3490003'"
            ]
          },
          "metadata": {},
          "execution_count": 131
        }
      ]
    }
  ]
}