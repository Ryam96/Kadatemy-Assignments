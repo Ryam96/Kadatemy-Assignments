{
  "nbformat": 4,
  "nbformat_minor": 0,
  "metadata": {
    "interpreter": {
      "hash": "57ae10df0ce81e929dd2c30a036359a892629e803d6b3728fc9d9d0d990384aa"
    },
    "kernelspec": {
      "display_name": "Python 3.9.6 64-bit",
      "name": "python3"
    },
    "language_info": {
      "codemirror_mode": {
        "name": "ipython",
        "version": 3
      },
      "file_extension": ".py",
      "mimetype": "text/x-python",
      "name": "python",
      "nbconvert_exporter": "python",
      "pygments_lexer": "ipython3",
      "version": "3.9.6"
    },
    "colab": {
      "name": "data_structures_assignment.ipynb",
      "provenance": [],
      "collapsed_sections": [],
      "include_colab_link": true
    }
  },
  "cells": [
    {
      "cell_type": "markdown",
      "metadata": {
        "id": "view-in-github",
        "colab_type": "text"
      },
      "source": [
        "<a href=\"https://colab.research.google.com/github/Ryam96/Kadatemy-Assignments/blob/main/data_structures_assignment.ipynb\" target=\"_parent\"><img src=\"https://colab.research.google.com/assets/colab-badge.svg\" alt=\"Open In Colab\"/></a>"
      ]
    },
    {
      "cell_type": "markdown",
      "metadata": {
        "id": "RK67JEEYSkI5"
      },
      "source": [
        "## 1. \n",
        "\n",
        "\n",
        "x = 16 - 2 * 5 // 3 + 1\n",
        "\n",
        "\n",
        "y = 2 ** 3 * 3\n",
        "\n",
        "what is x?\n",
        "what is y?\n",
        "\n",
        "Describe the order that the computation occurred in each case. i.e which happened first, followed by which one, etc."
      ]
    },
    {
      "cell_type": "code",
      "metadata": {
        "colab": {
          "base_uri": "https://localhost:8080/"
        },
        "id": "XqxK8I4US1r6",
        "outputId": "9a09dfd5-7a2e-4ec6-f47d-70d9f8b54a4e"
      },
      "source": [
        "x = 16 - 2 * 5 // 3 + 1\n",
        "x      #using the arithemic rule: PEMDAS. Here we have both mulitiplication and floor (which is a family of division)  \n",
        "       #they are considered to be on the same level, we start from left to right so 2 * 5 = 10, then 10 // 3 = an int 3\n",
        "       #the next is the subtraction and the addition rule; since we have the two, we now  have 16 - 3 + 1 . we go from left to right 16 -3 = 13,then \n",
        "       13 + 1 = 14"
      ],
      "execution_count": null,
      "outputs": [
        {
          "output_type": "execute_result",
          "data": {
            "text/plain": [
              "14"
            ]
          },
          "metadata": {},
          "execution_count": 2
        }
      ]
    },
    {
      "cell_type": "code",
      "metadata": {
        "colab": {
          "base_uri": "https://localhost:8080/"
        },
        "id": "pC8rx2DAYK78",
        "outputId": "22c6b77a-4a26-45f5-c7af-39a17ef0d7b3"
      },
      "source": [
        "y = 2 ** 3 * 3    # using PEMDAS. 2 ** 3 means 2 exponetial 3 = 8. \n",
        "                  #Then 8 * 3 = 24\n",
        "y"
      ],
      "execution_count": null,
      "outputs": [
        {
          "output_type": "execute_result",
          "data": {
            "text/plain": [
              "24"
            ]
          },
          "metadata": {},
          "execution_count": 3
        }
      ]
    },
    {
      "cell_type": "markdown",
      "metadata": {
        "id": "T8oEbVABSkJJ"
      },
      "source": [
        "## 2. \n",
        "Add parenthesis to the expression 6 * 1 - 2 to change the resulting value from 4 to -6."
      ]
    },
    {
      "cell_type": "code",
      "metadata": {
        "colab": {
          "base_uri": "https://localhost:8080/"
        },
        "id": "N45u_RhPZTdL",
        "outputId": "bda969ac-cf5c-4bf4-8d20-0bb4c8798b40"
      },
      "source": [
        "z = 6 * (1 - 2)\n",
        "z"
      ],
      "execution_count": null,
      "outputs": [
        {
          "output_type": "execute_result",
          "data": {
            "text/plain": [
              "-6"
            ]
          },
          "metadata": {},
          "execution_count": 5
        }
      ]
    },
    {
      "cell_type": "markdown",
      "metadata": {
        "id": "W46AExWQSkJM"
      },
      "source": [
        "## 3. \n",
        "Compute the area of a circle with radius 7, stored into a variable called area. \n",
        "Print a nice message with the answer.\n",
        "\n",
        "Note- Search for the formula to calculate area of a circle. "
      ]
    },
    {
      "cell_type": "code",
      "metadata": {
        "colab": {
          "base_uri": "https://localhost:8080/"
        },
        "id": "zVD8GUbjZ46O",
        "outputId": "3304ee23-de34-4a19-bc5c-5b9724d8089b"
      },
      "source": [
        "r = 7\n",
        "PI = 3.14\n",
        "area = PI * (r ** 2)\n",
        "print(area)\n",
        "\n",
        "print('I just calculated the area of a circle using python and the answer was {}'.format (area))"
      ],
      "execution_count": null,
      "outputs": [
        {
          "output_type": "stream",
          "name": "stdout",
          "text": [
            "153.86\n",
            "I just calculated the area of a circle using python and the answer was 153.86\n"
          ]
        }
      ]
    },
    {
      "cell_type": "markdown",
      "metadata": {
        "id": "iXIQsllfSkJO"
      },
      "source": [
        "## 4. \n",
        "Write an expression to check to if a number 3, stored in a variable x, is between 0 and 5."
      ]
    },
    {
      "cell_type": "code",
      "metadata": {
        "id": "QMjJZzZ9fMgC",
        "colab": {
          "base_uri": "https://localhost:8080/"
        },
        "outputId": "07907779-e5e9-49c8-fb7a-a376b8d4edc9"
      },
      "source": [
        "x = 3\n",
        "x >0 and x <= 5\n"
      ],
      "execution_count": null,
      "outputs": [
        {
          "output_type": "execute_result",
          "data": {
            "text/plain": [
              "True"
            ]
          },
          "metadata": {},
          "execution_count": 87
        }
      ]
    },
    {
      "cell_type": "markdown",
      "metadata": {
        "id": "y7UXodvZSkJP"
      },
      "source": [
        "## 5. \n",
        "\n",
        "Variables x and y refer to Boolean values.\n",
        "\n",
        "\n",
        "a. Write an expression that produces True if both variables are True.\n",
        "\n",
        "b. Write an expression that produces True if at least one of the variables\n",
        "is True.\n",
        "\n",
        "c. write an expression that inverses the result of 5a above."
      ]
    },
    {
      "cell_type": "code",
      "metadata": {
        "id": "bWC1UuJDqy1O",
        "colab": {
          "base_uri": "https://localhost:8080/"
        },
        "outputId": "a3ffd2c3-2d5a-4de7-d35c-0455ea8fce94"
      },
      "source": [
        "y = True\n",
        "x = True\n",
        "x and y\n"
      ],
      "execution_count": 145,
      "outputs": [
        {
          "output_type": "execute_result",
          "data": {
            "text/plain": [
              "True"
            ]
          },
          "metadata": {},
          "execution_count": 145
        }
      ]
    },
    {
      "cell_type": "code",
      "metadata": {
        "id": "qD77MQAuqvkW",
        "colab": {
          "base_uri": "https://localhost:8080/"
        },
        "outputId": "a919088d-e74c-4b86-9aeb-084cd4c8b1d2"
      },
      "source": [
        "y = True\n",
        "x = False\n",
        "x or y"
      ],
      "execution_count": 139,
      "outputs": [
        {
          "output_type": "execute_result",
          "data": {
            "text/plain": [
              "True"
            ]
          },
          "metadata": {},
          "execution_count": 139
        }
      ]
    },
    {
      "cell_type": "code",
      "metadata": {
        "colab": {
          "base_uri": "https://localhost:8080/"
        },
        "id": "Qn4yD0toyqzF",
        "outputId": "236fae3a-8dd7-49f1-b911-7e57f852c17b"
      },
      "source": [
        "y = True\n",
        "x = True\n",
        "not (x and y)\n"
      ],
      "execution_count": 146,
      "outputs": [
        {
          "output_type": "execute_result",
          "data": {
            "text/plain": [
              "False"
            ]
          },
          "metadata": {},
          "execution_count": 146
        }
      ]
    },
    {
      "cell_type": "markdown",
      "metadata": {
        "id": "e_sVmR5KSkJR"
      },
      "source": [
        "## 6.\n",
        "Create a list that contains floats and integers, and write a code to sum all the items in the list."
      ]
    },
    {
      "cell_type": "code",
      "metadata": {
        "colab": {
          "base_uri": "https://localhost:8080/"
        },
        "id": "WIHLEvW6uBLU",
        "outputId": "eaea1b1e-19be-45a5-b14c-cc9e09e1a209"
      },
      "source": [
        "scores = [ 50, 89.5, 45, 90, 87.4, 44.3, 56, 60.5, 56.9, 85, 76, 72.1, 60.5, 89.1, 89]\n",
        "sum(scores)"
      ],
      "execution_count": null,
      "outputs": [
        {
          "output_type": "execute_result",
          "data": {
            "text/plain": [
              "1051.3000000000002"
            ]
          },
          "metadata": {},
          "execution_count": 3
        }
      ]
    },
    {
      "cell_type": "markdown",
      "metadata": {
        "id": "1FsBC1gySkJS"
      },
      "source": [
        "## 7.\n",
        "list1 = [3, 5, 1, 3, 9, 5, 7] \n",
        "\n",
        "Write a code to sort this list in increasing order."
      ]
    },
    {
      "cell_type": "code",
      "metadata": {
        "colab": {
          "base_uri": "https://localhost:8080/"
        },
        "id": "I21WEYiSv13O",
        "outputId": "a097dbb7-3828-49d3-f483-86624124e5e7"
      },
      "source": [
        "list1 = [3, 5, 1, 3, 9, 5, 7]\n",
        "list1.sort()\n",
        "list1\n"
      ],
      "execution_count": null,
      "outputs": [
        {
          "output_type": "execute_result",
          "data": {
            "text/plain": [
              "[1, 3, 3, 5, 5, 7, 9]"
            ]
          },
          "metadata": {},
          "execution_count": 12
        }
      ]
    },
    {
      "cell_type": "markdown",
      "metadata": {
        "id": "9moly5pNSkJa"
      },
      "source": [
        "## 8.\n",
        "\n",
        "list2 = [1, 2, 5, 7, 9, 0, 3, 6, 7, 1, 3, 5, 6, 8, ,2, 9, 0, 5, 2, 1, 2, 4, 2]\n",
        "\n",
        "Write a code to count how many times 2 occured in the list"
      ]
    },
    {
      "cell_type": "code",
      "metadata": {
        "colab": {
          "base_uri": "https://localhost:8080/"
        },
        "id": "g2OXmI4h4QRa",
        "outputId": "b6051ffc-c7da-4e6b-d207-e034a1702390"
      },
      "source": [
        "list2 = [1, 2, 5, 7, 9, 0, 3, 6, 7, 1, 3, 5, 6, 8,2, 9, 0, 5, 2, 1, 2, 4, 2]\n",
        "\n",
        "print(list2.count(2))\n"
      ],
      "execution_count": null,
      "outputs": [
        {
          "output_type": "stream",
          "name": "stdout",
          "text": [
            "5\n"
          ]
        }
      ]
    },
    {
      "cell_type": "markdown",
      "metadata": {
        "id": "rh1kBnubSkJc"
      },
      "source": [
        "## 9.\n",
        "list3 = [\"Tosin\", 10.4, 9, (23, \"Faith\", [10, [\"Chinelo\", \"Sandra\"], 22]), 100, 85.5, 12.4, \"Promise\", (\"11\", 90)]\n",
        "\n",
        "Using string formatting, write a code that slices out \"Chinelo\", \"Faith\", slices out the number 100, 85.5, and 90.\n",
        "\n",
        "Your code should print out: Chinelo couldn't score 100%, she got 90%, However, Faith is a close second with 85.5%.\n",
        "\n",
        "NB: Make sure your output contains % sign"
      ]
    },
    {
      "cell_type": "code",
      "metadata": {
        "colab": {
          "base_uri": "https://localhost:8080/",
          "height": 35
        },
        "id": "HsbV1ecjplE_",
        "outputId": "ac2c03f2-4e25-4c77-e100-4bb131369e26"
      },
      "source": [
        "list3 = [\"Tosin\", 10.4, \"9\", (23, \"Faith\", [10, [\"Chinelo\", \"Sandra\"], 22]), 100, 85.5, 12.4, \"Promise\", (\"11\", 90)]\n",
        "a = list3[3][1]\n",
        "a\n"
      ],
      "execution_count": null,
      "outputs": [
        {
          "output_type": "execute_result",
          "data": {
            "application/vnd.google.colaboratory.intrinsic+json": {
              "type": "string"
            },
            "text/plain": [
              "'Faith'"
            ]
          },
          "metadata": {},
          "execution_count": 16
        }
      ]
    },
    {
      "cell_type": "code",
      "metadata": {
        "colab": {
          "base_uri": "https://localhost:8080/",
          "height": 35
        },
        "id": "AH-kkP88ro8d",
        "outputId": "57936d43-3821-4688-913f-1715ced37c82"
      },
      "source": [
        "list3 = [\"Tosin\", 10.4, \"9\", (23, \"Faith\", [10, [\"Chinelo\", \"Sandra\"], 22]), 100, 85.5, 12.4, \"Promise\", (\"11\", 90)]\n",
        "b = list3[3][2][1][0]\n",
        "b"
      ],
      "execution_count": null,
      "outputs": [
        {
          "output_type": "execute_result",
          "data": {
            "application/vnd.google.colaboratory.intrinsic+json": {
              "type": "string"
            },
            "text/plain": [
              "'Chinelo'"
            ]
          },
          "metadata": {},
          "execution_count": 6
        }
      ]
    },
    {
      "cell_type": "code",
      "metadata": {
        "colab": {
          "base_uri": "https://localhost:8080/"
        },
        "id": "1TmKggxQw4UX",
        "outputId": "e5ebdd35-e92b-4f45-d705-b1dbb1a161e8"
      },
      "source": [
        "list3\n",
        "c = list3[4]\n",
        "c"
      ],
      "execution_count": null,
      "outputs": [
        {
          "output_type": "execute_result",
          "data": {
            "text/plain": [
              "100"
            ]
          },
          "metadata": {},
          "execution_count": 12
        }
      ]
    },
    {
      "cell_type": "code",
      "metadata": {
        "colab": {
          "base_uri": "https://localhost:8080/"
        },
        "id": "eg6Z5p9xxJR5",
        "outputId": "3b4f0c25-db8c-4ee4-81d8-56f77025a938"
      },
      "source": [
        "list3\n",
        "d = list3[5]\n",
        "d"
      ],
      "execution_count": null,
      "outputs": [
        {
          "output_type": "execute_result",
          "data": {
            "text/plain": [
              "85.5"
            ]
          },
          "metadata": {},
          "execution_count": 18
        }
      ]
    },
    {
      "cell_type": "code",
      "metadata": {
        "colab": {
          "base_uri": "https://localhost:8080/"
        },
        "id": "rgk4r80Oxeq3",
        "outputId": "591e58c3-df98-4275-a71b-8579ea105d5d"
      },
      "source": [
        "list3\n",
        "e = list3[8][1]\n",
        "e\n"
      ],
      "execution_count": null,
      "outputs": [
        {
          "output_type": "execute_result",
          "data": {
            "text/plain": [
              "90"
            ]
          },
          "metadata": {},
          "execution_count": 14
        }
      ]
    },
    {
      "cell_type": "code",
      "metadata": {
        "colab": {
          "base_uri": "https://localhost:8080/"
        },
        "id": "2y-d8_yZx9ve",
        "outputId": "9d64b448-333b-4b39-b64c-39797c1eee38"
      },
      "source": [
        "print(\"{} couldn't score {} %, she got {}% However, {} is a close second with {}%\".format( (b),(c),(e),(a),(d)))"
      ],
      "execution_count": null,
      "outputs": [
        {
          "output_type": "stream",
          "name": "stdout",
          "text": [
            "Chinelo couldn't score 100 %, she got 90% However, Faith is a close second with 85.5%\n"
          ]
        }
      ]
    },
    {
      "cell_type": "markdown",
      "metadata": {
        "id": "OISGZBLbSkJe"
      },
      "source": [
        "## 10.\n",
        "\n",
        "list4 = [\"Chima\", \"Ebuka\", \"Rose\", \"Hassan\", \"Bisi\"]\n",
        "\n",
        "Write a code that removes any of these names and replaces it with your name in that particular index"
      ]
    },
    {
      "cell_type": "code",
      "metadata": {
        "colab": {
          "base_uri": "https://localhost:8080/"
        },
        "id": "pjSHetSphnvs",
        "outputId": "d81de804-9a34-4bfc-ad6d-13d50e45a3c2"
      },
      "source": [
        "list4 = [\"Chima\", \"Ebuka\", \"Rose\", \"Hassan\", \"Bisi\"]\n",
        "list4[0] =\"Maryam\"\n",
        "list4"
      ],
      "execution_count": null,
      "outputs": [
        {
          "output_type": "execute_result",
          "data": {
            "text/plain": [
              "['Maryam', 'Ebuka', 'Rose', 'Hassan', 'Bisi']"
            ]
          },
          "metadata": {},
          "execution_count": 41
        }
      ]
    },
    {
      "cell_type": "markdown",
      "metadata": {
        "id": "W3EgYA2YSkJg"
      },
      "source": [
        "## 11. \n",
        "\n",
        "list4 = [\"Chima\", \"Ebuka\", \"Rose\", \"Hassan\", \"Bisi\"]\n",
        "\n",
        "Write a code that prints out the index positon of the name \"Rose\""
      ]
    },
    {
      "cell_type": "code",
      "metadata": {
        "colab": {
          "base_uri": "https://localhost:8080/"
        },
        "id": "4JXECCGz-jx1",
        "outputId": "bbceb5c0-e9ec-41e2-fb21-64c185511b5b"
      },
      "source": [
        "list4 = [\"Chima\", \"Ebuka\", \"Rose\", \"Hassan\", \"Bisi\"]\n",
        "list4\n",
        "print(list4[2])"
      ],
      "execution_count": null,
      "outputs": [
        {
          "output_type": "stream",
          "name": "stdout",
          "text": [
            "Rose\n"
          ]
        }
      ]
    },
    {
      "cell_type": "markdown",
      "metadata": {
        "id": "FHL-XE2vSkJh"
      },
      "source": [
        "## 12. \n",
        "\n",
        "list4 = [\"Chima\", \"Ebuka\", \"Rose\", \"Hassan\", \"Bisi\"]\n",
        "\n",
        "Write a code that adds your name to this list of names"
      ]
    },
    {
      "cell_type": "code",
      "metadata": {
        "colab": {
          "base_uri": "https://localhost:8080/"
        },
        "id": "Foaum_beeQtJ",
        "outputId": "e697ae0b-cb76-4016-e486-418fca77a0c3"
      },
      "source": [
        "list4 = [\"Chima\", \"Ebuka\", \"Rose\", \"Hassan\", \"Bisi\"]\n",
        "list4.append(\"Maryam\")\n",
        "list4"
      ],
      "execution_count": null,
      "outputs": [
        {
          "output_type": "execute_result",
          "data": {
            "text/plain": [
              "['Chima', 'Ebuka', 'Rose', 'Hassan', 'Bisi', 'Maryam']"
            ]
          },
          "metadata": {},
          "execution_count": 40
        }
      ]
    },
    {
      "cell_type": "markdown",
      "metadata": {
        "id": "2keRW7WbSkJi"
      },
      "source": [
        "## 13.\n",
        "sets = {3, 1, 10, 4, 5, 6}\n",
        "\n",
        "Write a code that sorts this set in asceding order. Print the output, explain the out you got and why."
      ]
    },
    {
      "cell_type": "code",
      "metadata": {
        "colab": {
          "base_uri": "https://localhost:8080/"
        },
        "id": "rrXlKJejeoJ8",
        "outputId": "07d9fefb-b7f3-4a46-d376-bb096986847e"
      },
      "source": [
        "sets = {3, 1, 10, 4, 5, 6}\n",
        "sorted(sets)"
      ],
      "execution_count": null,
      "outputs": [
        {
          "output_type": "execute_result",
          "data": {
            "text/plain": [
              "[1, 3, 4, 5, 6, 10]"
            ]
          },
          "metadata": {},
          "execution_count": 36
        }
      ]
    },
    {
      "cell_type": "markdown",
      "metadata": {
        "id": "2NLzErLwSkJj"
      },
      "source": [
        "## 14.\n",
        "\n",
        "- set1 = {10, 20, 30, 40, 50}\n",
        "- set2 = {30, 40, 50, 60, 70}\n",
        "\n",
        "Write a code prints out a new set with all items from both sets by removing duplicates"
      ]
    },
    {
      "cell_type": "code",
      "metadata": {
        "colab": {
          "base_uri": "https://localhost:8080/"
        },
        "id": "fmMq7cUfeTmp",
        "outputId": "c8d7b259-0b3f-4602-be59-25bdffff78a6"
      },
      "source": [
        "set1 = {10, 20, 30, 40, 50}\n",
        "set2 = {30, 40, 50, 60, 70}\n",
        "\n",
        "set.union(set1, set2)\n",
        "\n"
      ],
      "execution_count": null,
      "outputs": [
        {
          "output_type": "execute_result",
          "data": {
            "text/plain": [
              "{10, 20, 30, 40, 50, 60, 70}"
            ]
          },
          "metadata": {},
          "execution_count": 30
        }
      ]
    },
    {
      "cell_type": "markdown",
      "metadata": {
        "id": "xT6-ts2KSkJk"
      },
      "source": [
        "## 15.\n",
        "\n",
        "- Create a string that is a long series of words separated by spaces. \n",
        "It can be names, cities, animals, anything. Just make it up yourself.\n",
        "- Turn the string into a list of words using split. \n",
        "- Delete two words from the list, but delete each one using a different kind of Python method. \n",
        "- Sort the list. \n",
        "- Add two new words to the list using two different kinds of Python operation used in adding items to a list. \n",
        "- Turn the list of words back into a single string using join. \n",
        "- Print the string.\n",
        "\n",
        "NB: Feel free to use Google to find out other ways to add and remove items from a list"
      ]
    },
    {
      "cell_type": "code",
      "metadata": {
        "colab": {
          "base_uri": "https://localhost:8080/"
        },
        "id": "9n9SuKW8jn2M",
        "outputId": "67cddfa2-5b55-41b9-f24e-bf62e872c04b"
      },
      "source": [
        "word = \" lagos is such a weird place. I wish people would experience other cities too. So much to explore up north east and even other cities in the southwest.\"\n",
        "#str1.split()\n",
        "m = word.split()\n",
        "m"
      ],
      "execution_count": 147,
      "outputs": [
        {
          "output_type": "execute_result",
          "data": {
            "text/plain": [
              "['lagos',\n",
              " 'is',\n",
              " 'such',\n",
              " 'a',\n",
              " 'weird',\n",
              " 'place.',\n",
              " 'I',\n",
              " 'wish',\n",
              " 'people',\n",
              " 'would',\n",
              " 'experience',\n",
              " 'other',\n",
              " 'cities',\n",
              " 'too.',\n",
              " 'So',\n",
              " 'much',\n",
              " 'to',\n",
              " 'explore',\n",
              " 'up',\n",
              " 'north',\n",
              " 'east',\n",
              " 'and',\n",
              " 'even',\n",
              " 'other',\n",
              " 'cities',\n",
              " 'in',\n",
              " 'the',\n",
              " 'southwest.']"
            ]
          },
          "metadata": {},
          "execution_count": 147
        }
      ]
    },
    {
      "cell_type": "code",
      "metadata": {
        "colab": {
          "base_uri": "https://localhost:8080/"
        },
        "id": "Js9tujf_jd6V",
        "outputId": "66325a04-41c9-4915-95b0-98fc692aa8f0"
      },
      "source": [
        "m.remove(m[2])\n",
        "m"
      ],
      "execution_count": 148,
      "outputs": [
        {
          "output_type": "execute_result",
          "data": {
            "text/plain": [
              "['lagos',\n",
              " 'is',\n",
              " 'a',\n",
              " 'weird',\n",
              " 'place.',\n",
              " 'I',\n",
              " 'wish',\n",
              " 'people',\n",
              " 'would',\n",
              " 'experience',\n",
              " 'other',\n",
              " 'cities',\n",
              " 'too.',\n",
              " 'So',\n",
              " 'much',\n",
              " 'to',\n",
              " 'explore',\n",
              " 'up',\n",
              " 'north',\n",
              " 'east',\n",
              " 'and',\n",
              " 'even',\n",
              " 'other',\n",
              " 'cities',\n",
              " 'in',\n",
              " 'the',\n",
              " 'southwest.']"
            ]
          },
          "metadata": {},
          "execution_count": 148
        }
      ]
    },
    {
      "cell_type": "code",
      "metadata": {
        "colab": {
          "base_uri": "https://localhost:8080/"
        },
        "id": "0vdZaN_Ij0Wt",
        "outputId": "039e3ae8-63a7-49af-ef47-b85ed8fd100e"
      },
      "source": [
        "del m[12]\n",
        "m"
      ],
      "execution_count": 149,
      "outputs": [
        {
          "output_type": "execute_result",
          "data": {
            "text/plain": [
              "['lagos',\n",
              " 'is',\n",
              " 'a',\n",
              " 'weird',\n",
              " 'place.',\n",
              " 'I',\n",
              " 'wish',\n",
              " 'people',\n",
              " 'would',\n",
              " 'experience',\n",
              " 'other',\n",
              " 'cities',\n",
              " 'So',\n",
              " 'much',\n",
              " 'to',\n",
              " 'explore',\n",
              " 'up',\n",
              " 'north',\n",
              " 'east',\n",
              " 'and',\n",
              " 'even',\n",
              " 'other',\n",
              " 'cities',\n",
              " 'in',\n",
              " 'the',\n",
              " 'southwest.']"
            ]
          },
          "metadata": {},
          "execution_count": 149
        }
      ]
    },
    {
      "cell_type": "code",
      "metadata": {
        "colab": {
          "base_uri": "https://localhost:8080/"
        },
        "id": "G8pfK5fXrLSJ",
        "outputId": "e41b929e-e01f-4666-81be-1e60bba4d41b"
      },
      "source": [
        " m.sort()\n",
        " m"
      ],
      "execution_count": 108,
      "outputs": [
        {
          "output_type": "execute_result",
          "data": {
            "text/plain": [
              "['a',\n",
              " 'and',\n",
              " 'cities',\n",
              " 'cities',\n",
              " 'east',\n",
              " 'even',\n",
              " 'experience',\n",
              " 'explore',\n",
              " 'i',\n",
              " 'in',\n",
              " 'is',\n",
              " 'lagos',\n",
              " 'much',\n",
              " 'north',\n",
              " 'other',\n",
              " 'other',\n",
              " 'people',\n",
              " 'place',\n",
              " 'so',\n",
              " 'southwest.',\n",
              " 'the',\n",
              " 'to',\n",
              " 'up',\n",
              " 'weird',\n",
              " 'wish',\n",
              " 'would']"
            ]
          },
          "metadata": {},
          "execution_count": 108
        }
      ]
    },
    {
      "cell_type": "code",
      "metadata": {
        "colab": {
          "base_uri": "https://localhost:8080/"
        },
        "id": "2XR2sDRgt2g9",
        "outputId": "24c4e110-f9c6-4ac4-ba31-e6ac04edd5ba"
      },
      "source": [
        "m.insert(1,\"really\")\n",
        "m #i added a new word to the unsorted\n"
      ],
      "execution_count": 150,
      "outputs": [
        {
          "output_type": "execute_result",
          "data": {
            "text/plain": [
              "['lagos',\n",
              " 'really',\n",
              " 'is',\n",
              " 'a',\n",
              " 'weird',\n",
              " 'place.',\n",
              " 'I',\n",
              " 'wish',\n",
              " 'people',\n",
              " 'would',\n",
              " 'experience',\n",
              " 'other',\n",
              " 'cities',\n",
              " 'So',\n",
              " 'much',\n",
              " 'to',\n",
              " 'explore',\n",
              " 'up',\n",
              " 'north',\n",
              " 'east',\n",
              " 'and',\n",
              " 'even',\n",
              " 'other',\n",
              " 'cities',\n",
              " 'in',\n",
              " 'the',\n",
              " 'southwest.']"
            ]
          },
          "metadata": {},
          "execution_count": 150
        }
      ]
    },
    {
      "cell_type": "code",
      "metadata": {
        "colab": {
          "base_uri": "https://localhost:8080/"
        },
        "id": "bjzjIX5mvRKC",
        "outputId": "733aa4b5-ecf5-4b4b-d418-e6ef546b910c"
      },
      "source": [
        "\n",
        "m.append(\"part\")\n",
        "m\n"
      ],
      "execution_count": 151,
      "outputs": [
        {
          "output_type": "execute_result",
          "data": {
            "text/plain": [
              "['lagos',\n",
              " 'really',\n",
              " 'is',\n",
              " 'a',\n",
              " 'weird',\n",
              " 'place.',\n",
              " 'I',\n",
              " 'wish',\n",
              " 'people',\n",
              " 'would',\n",
              " 'experience',\n",
              " 'other',\n",
              " 'cities',\n",
              " 'So',\n",
              " 'much',\n",
              " 'to',\n",
              " 'explore',\n",
              " 'up',\n",
              " 'north',\n",
              " 'east',\n",
              " 'and',\n",
              " 'even',\n",
              " 'other',\n",
              " 'cities',\n",
              " 'in',\n",
              " 'the',\n",
              " 'southwest.',\n",
              " 'part']"
            ]
          },
          "metadata": {},
          "execution_count": 151
        }
      ]
    },
    {
      "cell_type": "code",
      "metadata": {
        "colab": {
          "base_uri": "https://localhost:8080/"
        },
        "id": "VGYWh_-WwJEV",
        "outputId": "e5343893-fb10-4a84-b910-cc86d7eb989d"
      },
      "source": [
        " print(m)"
      ],
      "execution_count": 152,
      "outputs": [
        {
          "output_type": "stream",
          "name": "stdout",
          "text": [
            "['lagos', 'really', 'is', 'a', 'weird', 'place.', 'I', 'wish', 'people', 'would', 'experience', 'other', 'cities', 'So', 'much', 'to', 'explore', 'up', 'north', 'east', 'and', 'even', 'other', 'cities', 'in', 'the', 'southwest.', 'part']\n"
          ]
        }
      ]
    },
    {
      "cell_type": "code",
      "metadata": {
        "colab": {
          "base_uri": "https://localhost:8080/",
          "height": 35
        },
        "id": "q4gkvatdwUJw",
        "outputId": "b64465d9-2452-4c30-a661-9049da1e3d24"
      },
      "source": [
        "' '.join(m)"
      ],
      "execution_count": 153,
      "outputs": [
        {
          "output_type": "execute_result",
          "data": {
            "application/vnd.google.colaboratory.intrinsic+json": {
              "type": "string"
            },
            "text/plain": [
              "'lagos really is a weird place. I wish people would experience other cities So much to explore up north east and even other cities in the southwest. part'"
            ]
          },
          "metadata": {},
          "execution_count": 153
        }
      ]
    }
  ]
}