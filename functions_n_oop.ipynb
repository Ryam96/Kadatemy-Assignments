{
  "nbformat": 4,
  "nbformat_minor": 0,
  "metadata": {
    "colab": {
      "name": "functions-n-oop.ipynb",
      "provenance": [],
      "collapsed_sections": [],
      "include_colab_link": true
    },
    "kernelspec": {
      "display_name": "Python 3",
      "language": "python",
      "name": "python3"
    },
    "language_info": {
      "codemirror_mode": {
        "name": "ipython",
        "version": 3
      },
      "file_extension": ".py",
      "mimetype": "text/x-python",
      "name": "python",
      "nbconvert_exporter": "python",
      "pygments_lexer": "ipython3",
      "version": "3.8.8"
    }
  },
  "cells": [
    {
      "cell_type": "markdown",
      "metadata": {
        "id": "view-in-github",
        "colab_type": "text"
      },
      "source": [
        "<a href=\"https://colab.research.google.com/github/Ryam96/Kadatemy-Assignments/blob/main/functions_n_oop.ipynb\" target=\"_parent\"><img src=\"https://colab.research.google.com/assets/colab-badge.svg\" alt=\"Open In Colab\"/></a>"
      ]
    },
    {
      "cell_type": "markdown",
      "metadata": {
        "id": "lLxPEaU-gaeg"
      },
      "source": [
        "print(\"\"\"   \n",
        "        Enter a blank line to atop the program: \n",
        "            Enter a name to keep going !!!\n",
        "\"\"\"## 1. \n",
        "\n",
        "Write a program that reads words from the user until the user enters a blank line. \n",
        "\n",
        "After the user enters a blank line your program should display each word entered by the user exactly once. \n",
        "\n",
        "The words should be displayed in the same order that they were first entered. \n",
        "\n",
        "For example, if the user enters:\n",
        "\n",
        "- chioma\n",
        "- naylo\n",
        "- chioma\n",
        "- uju\n",
        "- naylo\n",
        "\n",
        "\n",
        "then your program should display:\n",
        "\n",
        "- chioma\n",
        "- naylo\n",
        "- uju"
      ]
    },
    {
      "cell_type": "code",
      "metadata": {
        "colab": {
          "base_uri": "https://localhost:8080/"
        },
        "id": "49_r2uPrh2O1",
        "outputId": "8a48ff16-1c4f-4a37-e6d2-06831858f98c"
      },
      "source": [
        "print(\"\"\"   \n",
        "        Enter a blank line to atop the program: \n",
        "            Enter a name to keep going !!!\n",
        "\"\"\")\n",
        "\n",
        "names = []\n",
        "while True:\n",
        "    name = input(\"Print enter a name: --  :) \")\n",
        "    names += [name]\n",
        "    if name == \"\":\n",
        "        print(\"You have just terminated the program : \")\n",
        "        break\n",
        "               \n",
        "secondnames = []\n",
        "for name in names:\n",
        "    if name not in secondnames:\n",
        "        secondnames.append(name)\n",
        "\n",
        "for secondname in secondnames:\n",
        "    print(secondname)\n",
        "\n"
      ],
      "execution_count": 2,
      "outputs": [
        {
          "output_type": "stream",
          "name": "stdout",
          "text": [
            "   \n",
            "        Enter a blank line to atop the program: \n",
            "            Enter a name to keep going !!!\n",
            "\n",
            "Print enter a name: --  :) kola\n",
            "Print enter a name: --  :) kidd\n",
            "Print enter a name: --  :) ko\n",
            "Print enter a name: --  :)   \n",
            "Print enter a name: --  :) \n",
            "You have just terminated the program : \n",
            "kola\n",
            "kidd\n",
            "ko\n",
            "  \n",
            "\n"
          ]
        }
      ]
    },
    {
      "cell_type": "code",
      "metadata": {
        "id": "epmXuqVGh2O5"
      },
      "source": [
        ""
      ],
      "execution_count": null,
      "outputs": []
    },
    {
      "cell_type": "markdown",
      "metadata": {
        "id": "WQRa9gICgdpp"
      },
      "source": [
        "## 2. \n",
        "An online vendor provides express shipping for many of its items at a rate of $ 10.95 for the first item in an order, and $2.95 for each subsequent item in the same order.\n",
        "\n",
        "Write a function that takes the number of items in the order as its only parameter.\n",
        "\n",
        "Return the shipping charge for the order as the function’s result. \n",
        "\n",
        "Include a main program that reads the number of items purchased from the user and displays the\n",
        "shipping charge."
      ]
    },
    {
      "cell_type": "code",
      "metadata": {
        "colab": {
          "base_uri": "https://localhost:8080/"
        },
        "id": "76uZWpVPh2O8",
        "outputId": "0564e401-959f-402c-c0e9-ae24266d71c2"
      },
      "source": [
        "def order(no_of_items):\n",
        "    rest = (no_of_items) - 1        #defining a function \n",
        "    shipping_charge = 10.95 + (rest * 2.95)\n",
        "    return shipping_charge\n",
        "        \n",
        "no_of_items = int(input(\"Enter no of items: \"))\n",
        "order(no_of_items)"
      ],
      "execution_count": 3,
      "outputs": [
        {
          "name": "stdout",
          "output_type": "stream",
          "text": [
            "Enter no of items: 8\n"
          ]
        },
        {
          "output_type": "execute_result",
          "data": {
            "text/plain": [
              "31.6"
            ]
          },
          "metadata": {},
          "execution_count": 3
        }
      ]
    },
    {
      "cell_type": "markdown",
      "metadata": {
        "id": "PruN-DqPghnJ"
      },
      "source": [
        "## 3. \n",
        "\n",
        "What concept is referred to as self-created data type?"
      ]
    },
    {
      "cell_type": "markdown",
      "metadata": {
        "id": "QetToisQgmyS"
      },
      "source": [
        "## 4. \n",
        "\n",
        "Look at the code snippet attached, what is the reason for the error? Re-write the  code to give the right output."
      ]
    },
    {
      "cell_type": "code",
      "metadata": {
        "id": "ezKoBNfNoUEJ"
      },
      "source": [
        " class country:\n",
        "  def __init__(self, location, population, landmass, government):\n",
        "    self.location = location\n",
        "    self.population = population\n",
        "    self.landmass = landmass\n",
        "    self.government = government\n",
        " \n",
        "  \n",
        "\n",
        "  def info(self):\n",
        "      print(\"Zamunda is located at  \" + self.location + \" with total population of  \" + self.population + \" and landmass of \" + landmass + \" with \" + government + \" as type of government \")\n",
        "\n",
        "Z = country(\"Wakanda\", 200, 800, \"monarchy\")\n",
        "\n",
        "\n",
        "print(Z)"
      ],
      "execution_count": null,
      "outputs": []
    },
    {
      "cell_type": "code",
      "metadata": {
        "id": "dlpym7I5h2PD"
      },
      "source": [
        ""
      ],
      "execution_count": null,
      "outputs": []
    },
    {
      "cell_type": "markdown",
      "metadata": {
        "id": "AKZ5l_hQgr_K"
      },
      "source": [
        "## 5. \n",
        "\n",
        "Create an animal object with attributes, print out a sentence describing the animal with your attributes."
      ]
    },
    {
      "cell_type": "markdown",
      "metadata": {
        "id": "3gpHqE1pm525"
      },
      "source": [
        "we will be creating a class cat with object lara\n"
      ]
    },
    {
      "cell_type": "code",
      "metadata": {
        "id": "fFPU_EDTh2PG"
      },
      "source": [
        "#creating the class\n",
        "\n",
        "class Cat:\n",
        " #Define\n",
        "   def __init__(self,  age, specie, color,):\n",
        "        self.name = name\n",
        "        self.age = age\n",
        "        self.age = specie\n",
        "        self.color = color\n",
        "    "
      ],
      "execution_count": 19,
      "outputs": []
    },
    {
      "cell_type": "code",
      "metadata": {
        "colab": {
          "base_uri": "https://localhost:8080/",
          "height": 231
        },
        "id": "aHC3DbEljvZx",
        "outputId": "758cfce1-7246-4bbe-aca2-b279fb37210c"
      },
      "source": [
        "lara = cat(\"lonewolf\",\"2\",\"persian\",\"brown\")\n",
        "\n",
        "print(lara.name)\n",
        "print(lara.age)\n",
        "print(lara.specie)\n",
        "print(lara.color)\n"
      ],
      "execution_count": 20,
      "outputs": [
        {
          "output_type": "error",
          "ename": "NameError",
          "evalue": "ignored",
          "traceback": [
            "\u001b[0;31m---------------------------------------------------------------------------\u001b[0m",
            "\u001b[0;31mNameError\u001b[0m                                 Traceback (most recent call last)",
            "\u001b[0;32m<ipython-input-20-3a3afdba9d8c>\u001b[0m in \u001b[0;36m<module>\u001b[0;34m()\u001b[0m\n\u001b[0;32m----> 1\u001b[0;31m \u001b[0mlara\u001b[0m \u001b[0;34m=\u001b[0m \u001b[0mcat\u001b[0m\u001b[0;34m(\u001b[0m\u001b[0;34m\"lonewolf\"\u001b[0m\u001b[0;34m,\u001b[0m\u001b[0;34m\"2\"\u001b[0m\u001b[0;34m,\u001b[0m\u001b[0;34m\"persian\"\u001b[0m\u001b[0;34m,\u001b[0m\u001b[0;34m\"brown\"\u001b[0m\u001b[0;34m)\u001b[0m\u001b[0;34m\u001b[0m\u001b[0;34m\u001b[0m\u001b[0m\n\u001b[0m\u001b[1;32m      2\u001b[0m \u001b[0;34m\u001b[0m\u001b[0m\n\u001b[1;32m      3\u001b[0m \u001b[0;34m\u001b[0m\u001b[0m\n\u001b[1;32m      4\u001b[0m \u001b[0mprint\u001b[0m\u001b[0;34m(\u001b[0m\u001b[0mlara\u001b[0m\u001b[0;34m.\u001b[0m\u001b[0mage\u001b[0m\u001b[0;34m)\u001b[0m\u001b[0;34m\u001b[0m\u001b[0;34m\u001b[0m\u001b[0m\n\u001b[1;32m      5\u001b[0m \u001b[0mprint\u001b[0m\u001b[0;34m(\u001b[0m\u001b[0mlara\u001b[0m\u001b[0;34m.\u001b[0m\u001b[0mspecie\u001b[0m\u001b[0;34m)\u001b[0m\u001b[0;34m\u001b[0m\u001b[0;34m\u001b[0m\u001b[0m\n",
            "\u001b[0;31mNameError\u001b[0m: name 'cat' is not defined"
          ]
        }
      ]
    },
    {
      "cell_type": "markdown",
      "metadata": {
        "id": "FY4Ap5dSh2PL"
      },
      "source": [
        "## 6\n",
        "\n",
        "Wrtie a function that takes in two parametrs (two strings).\n",
        "\n",
        "The first parameter should be a word and second should be a letter. \n",
        "\n",
        "The function returns the number of times that letter appears in the word. \n",
        "\n",
        "The function should be case insensitive (does not matter if the input is lowercase or uppercase). \n",
        "\n",
        "If the letter is not found in the word, the function should return 0."
      ]
    },
    {
      "cell_type": "code",
      "metadata": {
        "colab": {
          "base_uri": "https://localhost:8080/"
        },
        "id": "sG-TLLYUh2PN",
        "outputId": "913df1ef-4063-43ff-f016-a0548a250b30"
      },
      "source": [
        "def appearance(words, letter):\n",
        "    count = 0\n",
        "    for word in words:\n",
        "        if word.lower() == letter.lower():\n",
        "            count += 1\n",
        "    return count\n",
        "\n",
        "words = input(\"Enter a word: \")\n",
        "letter = input(\"Enter a letter to search in word: \")\n",
        "appearance(words, letter)\n",
        "            "
      ],
      "execution_count": 4,
      "outputs": [
        {
          "name": "stdout",
          "output_type": "stream",
          "text": [
            "Enter a word: babalola\n",
            "Enter a letter to search in word: a\n"
          ]
        },
        {
          "output_type": "execute_result",
          "data": {
            "text/plain": [
              "3"
            ]
          },
          "metadata": {},
          "execution_count": 4
        }
      ]
    },
    {
      "cell_type": "markdown",
      "metadata": {
        "id": "0tnbhSkFh2PO"
      },
      "source": [
        "## 7\n",
        "\n",
        "When analysing data collected as part of an experiment it may be desirable to remove the most extreme values before performing other calculations. \n",
        "\n",
        "Write a function that takes a list of values and an non-negative integer, n, as its parameters.\n",
        "\n",
        "The function should create a new copy of the list with the n largest elements and the n smallest elements removed. \n",
        "\n",
        "Then it should return the new copy of the list as the function’s only result. \n",
        "\n",
        "The order of the elements in the returned list does not have to match the order of the elements in the original list.\n",
        "\n",
        "Write a main program that demonstrates your function. \n",
        "\n",
        "It should read a list of numbers from the user and remove the two largest and two smallest values from it by calling the function described previously. \n",
        "\n",
        "Display the list with the outliers removed, followed by the original list. \n",
        "\n",
        "Your program should generate an appropriate error message if the user enters less than 4 values."
      ]
    },
    {
      "cell_type": "code",
      "metadata": {
        "colab": {
          "base_uri": "https://localhost:8080/"
        },
        "id": "yvUgesFKh2PP",
        "outputId": "6e730346-a6b1-4267-a6e5-f06636f7bd21"
      },
      "source": [
        "print(\"This Program read a list of numbers from the user and remove the two largest and two smallest values from it \")\n",
        "def arrange(list):\n",
        "    list2 = list.copy()\n",
        "    list2.sort()\n",
        "    if len(list2) < 4:\n",
        "        Print(\"Value less than 4, try again\")\n",
        "    else:\n",
        "        print(\"Processing........................hehehehehehehehehehehehehehehehehe.............................\")\n",
        "        list2.remove(max(list2))\n",
        "        list2.remove(max(list2))\n",
        "        list2.remove(min(list2))\n",
        "        list2.remove(min(list2))\n",
        "    for items in list2:\n",
        "        print(items) \n",
        "\n",
        "list = []\n",
        "while True:\n",
        "    try:\n",
        "        rawdata = int(input(\"Enter an integer value, input 'string' to end input and run the program  \"))\n",
        "        list.append(rawdata)\n",
        "    \n",
        "    except ValueError:\n",
        "        print(\"End of input\")\n",
        "        break\n",
        "\n",
        "arrange(list)\n",
        "print(list)"
      ],
      "execution_count": 6,
      "outputs": [
        {
          "output_type": "stream",
          "name": "stdout",
          "text": [
            "This Program read a list of numbers from the user and remove the two largest and two smallest values from it \n",
            "Enter an integer value, input 'string' to end input and run the program  900\n",
            "Enter an integer value, input 'string' to end input and run the program  90\n",
            "Enter an integer value, input 'string' to end input and run the program  5634\n",
            "Enter an integer value, input 'string' to end input and run the program  23\n",
            "Enter an integer value, input 'string' to end input and run the program  789\n",
            "Enter an integer value, input 'string' to end input and run the program  1000\n",
            "Enter an integer value, input 'string' to end input and run the program  56\n",
            "Enter an integer value, input 'string' to end input and run the program  45\n",
            "Enter an integer value, input 'string' to end input and run the program  78\n",
            "Enter an integer value, input 'string' to end input and run the program  9000\n",
            "Enter an integer value, input 'string' to end input and run the program  l\n",
            "End of input\n",
            "Processing........................hehehehehehehehehehehehehehehehehe.............................\n",
            "56\n",
            "78\n",
            "90\n",
            "789\n",
            "900\n",
            "1000\n",
            "[900, 90, 5634, 23, 789, 1000, 56, 45, 78, 9000]\n"
          ]
        }
      ]
    },
    {
      "cell_type": "markdown",
      "metadata": {
        "id": "nt-K5smzjaek"
      },
      "source": [
        "Type Markdown and LaTeX:  𝛼2"
      ]
    }
  ]
}