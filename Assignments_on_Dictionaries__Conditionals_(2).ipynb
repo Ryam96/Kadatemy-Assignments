{
  "nbformat": 4,
  "nbformat_minor": 0,
  "metadata": {
    "kernelspec": {
      "display_name": "Python 3",
      "language": "python",
      "name": "python3"
    },
    "language_info": {
      "codemirror_mode": {
        "name": "ipython",
        "version": 3
      },
      "file_extension": ".py",
      "mimetype": "text/x-python",
      "name": "python",
      "nbconvert_exporter": "python",
      "pygments_lexer": "ipython3",
      "version": "3.8.5"
    },
    "colab": {
      "name": "Assignments_on_Dictionaries__Conditionals (2).ipynb",
      "provenance": [],
      "include_colab_link": true
    }
  },
  "cells": [
    {
      "cell_type": "markdown",
      "metadata": {
        "id": "view-in-github",
        "colab_type": "text"
      },
      "source": [
        "<a href=\"https://colab.research.google.com/github/Ryam96/Kadatemy-Assignments/blob/main/Assignments_on_Dictionaries__Conditionals_(2).ipynb\" target=\"_parent\"><img src=\"https://colab.research.google.com/assets/colab-badge.svg\" alt=\"Open In Colab\"/></a>"
      ]
    },
    {
      "cell_type": "markdown",
      "metadata": {
        "id": "Ww6MgD8XjxQQ"
      },
      "source": [
        "## 1.\n",
        "\n",
        "A triangle can be classified based on the lengths of its sides as equilateral, isosceles or\n",
        "scalene. All three sides of an equilateral triangle have the same length. An isosceles\n",
        "triangle has two sides that are the same length, and a third side that is a different\n",
        "length. If all of the sides have different lengths then the triangle is scalene.\n",
        "Write a program that reads the lengths of the three sides of a triangle from the\n",
        "user. Then display a message that states the triangle’s type."
      ]
    },
    {
      "cell_type": "code",
      "metadata": {
        "id": "mH7ra_EbjxQl",
        "outputId": "c93ab2a4-5200-455f-d62d-d8dd18904a0d"
      },
      "source": [
        "length1 = int(input(\"Enter Lenght 1: \"))\n",
        "length2 = int(input(\"Enter Lenght 2: \"))\n",
        "length3 = int(input(\"Enter Lenght 3: \"))\n",
        "\n",
        "if (length1 == length2 == length3):\n",
        "    print(\"equilateral triangle\")\n",
        "elif (length1 == length2 or length2 == length3 or length3 == length1):\n",
        "    print(\"isosceles triangle\")\n",
        "else:\n",
        "    print(\"scalene triangle\")"
      ],
      "execution_count": null,
      "outputs": [
        {
          "name": "stdout",
          "output_type": "stream",
          "text": [
            "Enter Lenght 1: 34\n",
            "Enter Lenght 2: 21\n",
            "Enter Lenght 3: 34\n",
            "isosceles triangle\n"
          ]
        }
      ]
    },
    {
      "cell_type": "markdown",
      "metadata": {
        "id": "FRj_J-7ujxQp"
      },
      "source": [
        "## 2.\n",
        "\n",
        "Create a dictionary, then write a code to check whether a given key already exists in the dictionary"
      ]
    },
    {
      "cell_type": "code",
      "metadata": {
        "id": "hvUAhTHcjxQq",
        "outputId": "b9353cb4-d124-44a4-d2f0-0dd5dad60c82"
      },
      "source": [
        "contents = {'name': 'sakeenaco', 'occupation': 'student', 'age': '42'}\n",
        "print(contents.get('institution'))"
      ],
      "execution_count": null,
      "outputs": [
        {
          "name": "stdout",
          "output_type": "stream",
          "text": [
            "None\n"
          ]
        }
      ]
    },
    {
      "cell_type": "markdown",
      "metadata": {
        "id": "keQjhVdijxQr"
      },
      "source": [
        "## 3.\n",
        "\n",
        "Create a dictionary, then write a Python program to remove a key from the dictionary. "
      ]
    },
    {
      "cell_type": "code",
      "metadata": {
        "id": "GvrV3YDzjxQr",
        "outputId": "32516849-5c3b-4cc5-be25-d4fd88c91c6d"
      },
      "source": [
        "contents = {'name': 'sakeenaco', 'occupation': 'student', 'age': '25'}\n",
        "contents.pop('age')\n",
        "contents"
      ],
      "execution_count": null,
      "outputs": [
        {
          "data": {
            "text/plain": [
              "{'name': 'sakeenaco', 'occupation': 'student'}"
            ]
          },
          "execution_count": 52,
          "metadata": {},
          "output_type": "execute_result"
        }
      ]
    },
    {
      "cell_type": "markdown",
      "metadata": {
        "id": "pDsQAgk9jxQs"
      },
      "source": [
        "## 4.\n",
        "\n",
        "Create a dictionary that contains Name, Location, Gender, Age as keys, then write a code that changes \"Location\" to \"City\"."
      ]
    },
    {
      "cell_type": "code",
      "metadata": {
        "colab": {
          "base_uri": "https://localhost:8080/"
        },
        "id": "G7UkZswakBmI",
        "outputId": "ba5dd948-2898-4641-f5f3-f786550ae0e0"
      },
      "source": [
        "dic = {'name' : 'Kachi', 'location': 'Ogun', 'gender': 'female', 'age': '50'}\n",
        "#dic\n",
        "dic ['city'] = dic.pop('location')\n",
        "dic"
      ],
      "execution_count": 18,
      "outputs": [
        {
          "output_type": "execute_result",
          "data": {
            "text/plain": [
              "{'age': '50', 'city': 'Ogun', 'gender': 'female', 'name': 'Kachi'}"
            ]
          },
          "metadata": {},
          "execution_count": 18
        }
      ]
    },
    {
      "cell_type": "markdown",
      "metadata": {
        "id": "YcacqIXmjxQt"
      },
      "source": [
        "## 5.\n",
        "\n",
        "details = {\n",
        "     'person1': {'name': 'Chioma', 'salary': 7500, 'age': 22},\n",
        "     'person2': {'name': 'Tosin', 'salary': 8000, 'age': 25},\n",
        "     'person3': {'name': 'Promise', 'salary': 6500, 'age': 28}\n",
        "}\n",
        "\n",
        "Write a code that changes Tosin's salary to 9000"
      ]
    },
    {
      "cell_type": "code",
      "metadata": {
        "colab": {
          "base_uri": "https://localhost:8080/"
        },
        "id": "BhjTIC-2p4wT",
        "outputId": "edd7ae0f-ad9d-48f9-a493-60069dfdf725"
      },
      "source": [
        "details = { 'person1': {'name': 'Chioma', 'salary': 7500, 'age': 22},\n",
        "           'person2': {'name': 'Tosin', 'salary': 8000, 'age': 25}, \n",
        "           'person3': {'name': 'Promise', 'salary': 6500, 'age': 28} }\n",
        "details ['person2']['salary'] = ('9000')\n",
        "details"
      ],
      "execution_count": 21,
      "outputs": [
        {
          "output_type": "execute_result",
          "data": {
            "text/plain": [
              "{'person1': {'age': 22, 'name': 'Chioma', 'salary': 7500},\n",
              " 'person2': {'age': 25, 'name': 'Tosin', 'salary': '9000'},\n",
              " 'person3': {'age': 28, 'name': 'Promise', 'salary': 6500}}"
            ]
          },
          "metadata": {},
          "execution_count": 21
        }
      ]
    },
    {
      "cell_type": "markdown",
      "metadata": {
        "id": "wWkYFN9vjxQt"
      },
      "source": [
        "## 6.\n",
        "\n",
        "A month can last between 28 to 31 days. Write a code that reads the name of a month as a string from the user. The number of days in that month should then be shown by your output. Display \"28 or 29 days\" for February to account for leap years."
      ]
    },
    {
      "cell_type": "code",
      "metadata": {
        "id": "RfzkChwjjxQu",
        "outputId": "b0745703-92da-4327-9cc5-4125ae281bc1"
      },
      "source": [
        "month = input(\"Enter a month\")\n",
        "if (month.lower() == 'january'):\n",
        "    print(\"31 days\")\n",
        "elif (month.lower() == 'february'):\n",
        "    print(\"28 or 29 days\")\n",
        "elif (month.lower() == 'march'):\n",
        "    print(\"31 days\")\n",
        "elif (month.lower() == 'april'):\n",
        "    print(\"30 days\")\n",
        "elif (month.lower() == 'may'):\n",
        "    print(\"31 days\")\n",
        "elif (month.lower() == 'june'):\n",
        "    print(\"30 days\")\n",
        "elif (month.lower() == 'july'):\n",
        "    print(\"31 days\")\n",
        "elif (month.lower() == 'august'):\n",
        "    print(\"31 days\")\n",
        "elif (month.lower() == 'september'):\n",
        "    print(\"30 days\")\n",
        "elif (month.lower() == 'october'):\n",
        "    print(\"31 days\")\n",
        "elif (month.lower() == 'november'):\n",
        "    print(\"30 days\")\n",
        "elif (month.lower() == 'december'):\n",
        "    print(\"31 days\")\n",
        "else:\n",
        "    print(\"wrong input...\")"
      ],
      "execution_count": null,
      "outputs": [
        {
          "name": "stdout",
          "output_type": "stream",
          "text": [
            "Enter a monthfeBRUARY\n",
            "28 or 29 days\n"
          ]
        }
      ]
    },
    {
      "cell_type": "markdown",
      "metadata": {
        "id": "WZw-elKVjxQv"
      },
      "source": [
        "## 7.\n",
        "\n",
        "Write an if statement that asks for the user's name via input() function. If the name is \"James\" make it print \"Welcome on board, James.\" Otherwise make it print an appropriate error message of your choice. \n",
        "\n",
        "Make sure you use the string formatting method."
      ]
    },
    {
      "cell_type": "code",
      "metadata": {
        "id": "HXPAypubjxQx",
        "outputId": "47b6489c-8595-4d9a-bce1-1b393e91b564"
      },
      "source": [
        "age = 18\n",
        "name = input(\"Enter a Name: \")\n",
        "if (name == \"james\"):\n",
        "    print(f\"welcome on board, {name}.\") #old style string formatting\n",
        "    print(\"welcome on board, %s.\" %name) #old style string formatting (%operator)\n",
        "    print(\"welcome on board, {} you are {} years old.\" .format(name,age)) #new style format"
      ],
      "execution_count": null,
      "outputs": [
        {
          "name": "stdout",
          "output_type": "stream",
          "text": [
            "Enter a Name: james\n",
            "welcome on board, james.\n",
            "welcome on board, james.\n",
            "welcome on board, james you are 18 years old.\n"
          ]
        }
      ]
    },
    {
      "cell_type": "markdown",
      "metadata": {
        "id": "mKN-GL1jjxQy"
      },
      "source": [
        "## 8. \n",
        "\n",
        "Write a code that prompts the user to input a number, and then returns \"True\" if number is divisible by 3, and \"False\" if otherwise."
      ]
    },
    {
      "cell_type": "code",
      "metadata": {
        "id": "xunYuAEejxQz",
        "outputId": "79652943-96fc-4995-e1a6-432ca62488ae"
      },
      "source": [
        "element = int(input(\"Enter a number: \"))\n",
        "if (element % 3 == 0):\n",
        "    print(\"True\")\n",
        "else:\n",
        "    print(\"False\")"
      ],
      "execution_count": null,
      "outputs": [
        {
          "name": "stdout",
          "output_type": "stream",
          "text": [
            "Enter a number: 90\n",
            "True\n"
          ]
        }
      ]
    },
    {
      "cell_type": "markdown",
      "metadata": {
        "id": "IJ4yiVi3jxQz"
      },
      "source": [
        "## 9.\n",
        "\n",
        "A school has following rules for grading system:\n",
        "- Below 40 - F\n",
        "- 41 to 44 - E\n",
        "- 45 to 49 - D\n",
        "- 50 to 60 - C\n",
        "- 60 to 69 - B\n",
        "- 70 and above - A\n",
        "\n",
        "Write a code that asks the user to enter his mark and then prints out the corresponding grade."
      ]
    },
    {
      "cell_type": "code",
      "metadata": {
        "id": "msXrVF8djxQ0",
        "outputId": "608ac0d1-c016-4a39-eed6-f4a5e1ca4c9c"
      },
      "source": [
        "score = int(input(\"Enter Your Score\"))\n",
        "if (score >= 70):\n",
        "    print(\"Grade A\")\n",
        "elif (score >= 60 and score < 70):\n",
        "    print(\"Grade B\")\n",
        "elif (score >= 50 and score <= 60):\n",
        "    print(\"Grade C\")\n",
        "elif (score >= 45 and score <= 49):\n",
        "    print(\"Grade D\")\n",
        "elif (score > 40 and score < 45):\n",
        "    print(\"Grade E\")\n",
        "elif(score < 40):\n",
        "    print(\"Grade F\")\n",
        "else:\n",
        "    print(\"Wrong input\")"
      ],
      "execution_count": null,
      "outputs": [
        {
          "name": "stdout",
          "output_type": "stream",
          "text": [
            "Enter Your Score93\n",
            "Grade A\n"
          ]
        }
      ]
    },
    {
      "cell_type": "markdown",
      "metadata": {
        "id": "m1Kn7tGGjxQ1"
      },
      "source": [
        "## 10. \n",
        "\n",
        "A company decided to give bonus of 5% to employee if his/her year of service is more than 5 years.\n",
        "Write a code that asks the user to input their salary and years of service and then prints the net bonus amount.\n",
        "\n",
        "Use string format method"
      ]
    },
    {
      "cell_type": "code",
      "metadata": {
        "id": "qECnDCtPjxQ2",
        "outputId": "4d8fa4e2-383c-46ca-ac3f-30f5ade9acea"
      },
      "source": [
        "year = int(input(\"Enter years in service: \"))\n",
        "salary = float(input(\"Enter Monthly Salary: \"))\n",
        "\n",
        "if (year >= 5):\n",
        "    net_bonus = (salary / 100) * 5\n",
        "else:\n",
        "    net_bonus = 0\n",
        "\n",
        "print(\"net bonus = {}.\" .format(net_bonus))\n"
      ],
      "execution_count": null,
      "outputs": [
        {
          "name": "stdout",
          "output_type": "stream",
          "text": [
            "Enter years in service: 4\n",
            "Enter Monthly Salary: 50000\n",
            "net bonus = 0.\n"
          ]
        }
      ]
    }
  ]
}